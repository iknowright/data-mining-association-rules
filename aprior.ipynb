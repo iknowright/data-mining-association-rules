{
 "metadata": {
  "language_info": {
   "codemirror_mode": {
    "name": "ipython",
    "version": 3
   },
   "file_extension": ".py",
   "mimetype": "text/x-python",
   "name": "python",
   "nbconvert_exporter": "python",
   "pygments_lexer": "ipython3",
   "version": "3.8.5-final"
  },
  "orig_nbformat": 2,
  "kernelspec": {
   "name": "Python 3.8.5 64-bit",
   "display_name": "Python 3.8.5 64-bit",
   "metadata": {
    "interpreter": {
     "hash": "4818ee1c29e9995dcc6cc11a86f15036036703787da3ec2d187df586a4b792bf"
    }
   }
  }
 },
 "nbformat": 4,
 "nbformat_minor": 2,
 "cells": [
  {
   "cell_type": "code",
   "execution_count": 16,
   "metadata": {},
   "outputs": [],
   "source": [
    "def loadDataSet():\n",
    "    return [['A', 'C', 'D'], ['B', 'C', 'E'], ['A', 'B', 'C', 'E'], ['B', 'E']]"
   ]
  },
  {
   "cell_type": "code",
   "execution_count": 17,
   "metadata": {},
   "outputs": [],
   "source": [
    "'''建立集合C1即對dataSet去重排序'''\n",
    "def createC1(dataSet):\n",
    "    C1 = []\n",
    "    for transaction in dataSet:\n",
    "        for item in transaction:\n",
    "            if not [item] in C1:\n",
    "                C1.append([item])\n",
    "    C1.sort()\n",
    "    # frozenset表示凍結的set 集合，元素無改變把它當字典的 key 來使用\n",
    "    return C1\n",
    "    # return map(frozenset, C1)"
   ]
  },
  {
   "cell_type": "code",
   "execution_count": 18,
   "metadata": {},
   "outputs": [],
   "source": [
    "''' 計算候選資料集CK在資料集D中的支援度，返回大於最小支援度的資料'''\n",
    "def scanD(D,Ck,minSupport):\n",
    "    # ssCnt 臨時存放所有候選項集和頻率.\n",
    "    ssCnt = {}\n",
    "    for tid in D:\n",
    "        # print('1:',tid)\n",
    "        for can in map(frozenset,Ck):      #每個候選項集can\n",
    "            # print('2:',can.issubset(tid),can,tid)\n",
    "            if can.issubset(tid):\n",
    "                if not can in ssCnt:\n",
    "                    ssCnt[can] = 1\n",
    "                else:\n",
    "                    ssCnt[can] +=1\n",
    "\n",
    "    numItems = float(len(D)) # 所有項集數目\n",
    "    # 滿足最小支援度的頻繁項集\n",
    "    retList  = []\n",
    "    # 滿足最小支援度的頻繁項集和頻率\n",
    "    supportData = {}\n",
    "\n",
    "    for key in ssCnt:\n",
    "        support = ssCnt[key]/numItems   #除以總的記錄條數，即為其支援度\n",
    "        if support >= minSupport:\n",
    "            retList.insert(0,key)       #超過最小支援度的項集，將其記錄下來。\n",
    "        supportData[key] = support\n",
    "    return retList, supportData"
   ]
  },
  {
   "cell_type": "code",
   "execution_count": 19,
   "metadata": {},
   "outputs": [],
   "source": [
    "''' Apriori演算法：輸入頻繁項集列表Lk，輸出所有可能的候選項集 Ck'''\n",
    "def aprioriGen(Lk, k):\n",
    "    retList = [] # 滿足條件的頻繁項集\n",
    "    lenLk = len(Lk)\n",
    "    for i in range(lenLk):\n",
    "        for j in range(i+1, lenLk):\n",
    "            L1 = list(Lk[i])[: k-2]\n",
    "            L2 = list(Lk[j])[: k-2]\n",
    "            # print '-----i=', i, k-2, Lk, Lk[i], list(Lk[i])[: k-2]\n",
    "            # print '-----j=', j, k-2, Lk, Lk[j], list(Lk[j])[: k-2]\n",
    "            L1.sort()\n",
    "            L2.sort()\n",
    "            if L1 == L2:\n",
    "                retList.append(Lk[i] | Lk[j])\n",
    "    return retList"
   ]
  },
  {
   "cell_type": "code",
   "execution_count": 20,
   "metadata": {},
   "outputs": [],
   "source": [
    "'''找出資料集中支援度不小於最小支援度的候選項集以及它們的支援度即頻繁項集。\n",
    "演算法思想：首先構建集合C1，然後掃描資料集來判斷這些只有一個元素的項集是否滿足最小支援度。滿足最小支援度要求的項集構成集合L1。然後L1 中的元素相互組合成C2，C2再進一步過濾變成L2，以此類推，直到C_n的長度為0時結束，即可找出所有頻繁項集的支援度。\n",
    "返回：L 頻繁項集的全集\n",
    "      supportData 所有元素和支援度的全集\n",
    "'''\n",
    "def apriori(dataSet, minSupport=0.5):\n",
    "    # C1即對dataSet去重排序，然後轉換所有的元素為frozenset\n",
    "    C1 = createC1(dataSet)\n",
    "    print(C1)\n",
    "    # 對每一行進行 set 轉換，然後存放到集合中\n",
    "    D = list(map(set, dataSet))\n",
    "    # 計算候選資料集C1在資料集D中的支援度，並返回支援度大於minSupport 的資料\n",
    "    L1, supportData = scanD(D, C1, minSupport)\n",
    "    # L 加了一層 list, L一共 2 層 list\n",
    "    L = [L1];k = 2\n",
    "    # 判斷L第k-2項的資料長度是否>0即頻繁項集第一項。第一次執行時 L 為 [[frozenset([1]), frozenset([3]), frozenset([2]), frozenset([5])]]。L[k-2]=L[0]=[frozenset([1]), frozenset([3]), frozenset([2]), frozenset([5])]，最後面 k += 1\n",
    "    while (len(L[k-2]) > 0):\n",
    "        Ck = aprioriGen(L[k-2], k) # 例如: 以 {0},{1},{2} 為輸入且 k = 2 則輸出 {0,1}, {0,2}, {1,2}. 以 {0,1},{0,2},{1,2} 為輸入且 k = 3 則輸出 {0,1,2}\n",
    "\n",
    "        # 返回候選資料集CK在資料集D中的支援度大於最小支援度的資料\n",
    "        Lk, supK = scanD(D, Ck, minSupport)\n",
    "        # 儲存所有候選項集的支援度，如果字典沒有就追加元素，如果有就更新元素\n",
    "        supportData.update(supK)\n",
    "        if len(Lk) == 0:\n",
    "            break\n",
    "        # Lk 表示滿足頻繁子項的集合，L 元素在增加，例如:\n",
    "        # l=[[set(1), set(2), set(3)]]\n",
    "        # l=[[set(1), set(2), set(3)], [set(1, 2), set(2, 3)]]\n",
    "        L.append(Lk)\n",
    "        k += 1\n",
    "    return L, supportData"
   ]
  },
  {
   "cell_type": "code",
   "execution_count": 21,
   "metadata": {},
   "outputs": [],
   "source": [
    "'''測試頻繁項集生產'''\n",
    "def testApriori():\n",
    "    # 載入測試資料集\n",
    "    dataSet = loadDataSet()\n",
    "    print ('dataSet: ', dataSet)\n",
    "\n",
    "    # Apriori 演算法生成頻繁項集以及它們的支援度\n",
    "    L1, supportData1 = apriori(dataSet, minSupport=0.7)\n",
    "    print ('L(0.7): ', L1)\n",
    "    print ('supportData(0.7): ', supportData1)\n",
    "\n",
    "    print ('->->->->->->->->->->->->->->->->->->->->->->->->->->->->')\n",
    "\n",
    "    # Apriori 演算法生成頻繁項集以及它們的支援度\n",
    "    L2, supportData2 = apriori(dataSet, minSupport=0.5)\n",
    "    print ('L(0.5): ', L2)\n",
    "    print ('supportData(0.5): ', supportData2)"
   ]
  },
  {
   "cell_type": "code",
   "execution_count": 22,
   "metadata": {},
   "outputs": [
    {
     "output_type": "stream",
     "name": "stdout",
     "text": [
      "dataSet:  [['A', 'C', 'D'], ['B', 'C', 'E'], ['A', 'B', 'C', 'E'], ['B', 'E']]\n[['A'], ['B'], ['C'], ['D'], ['E']]\nL(0.7):  [[frozenset({'E'}), frozenset({'B'}), frozenset({'C'})], [frozenset({'E', 'B'})]]\nsupportData(0.7):  {frozenset({'A'}): 0.5, frozenset({'C'}): 0.75, frozenset({'D'}): 0.25, frozenset({'B'}): 0.75, frozenset({'E'}): 0.75, frozenset({'E', 'B'}): 0.75, frozenset({'E', 'C'}): 0.5, frozenset({'C', 'B'}): 0.5}\n->->->->->->->->->->->->->->->->->->->->->->->->->->->->\n[['A'], ['B'], ['C'], ['D'], ['E']]\nL(0.5):  [[frozenset({'E'}), frozenset({'B'}), frozenset({'C'}), frozenset({'A'})], [frozenset({'C', 'B'}), frozenset({'E', 'C'}), frozenset({'E', 'B'}), frozenset({'C', 'A'})], [frozenset({'E', 'C', 'B'})]]\nsupportData(0.5):  {frozenset({'A'}): 0.5, frozenset({'C'}): 0.75, frozenset({'D'}): 0.25, frozenset({'B'}): 0.75, frozenset({'E'}): 0.75, frozenset({'C', 'A'}): 0.5, frozenset({'E', 'B'}): 0.75, frozenset({'E', 'C'}): 0.5, frozenset({'C', 'B'}): 0.5, frozenset({'E', 'A'}): 0.25, frozenset({'A', 'B'}): 0.25, frozenset({'E', 'C', 'B'}): 0.5, frozenset({'C', 'A', 'B'}): 0.25}\n"
     ]
    }
   ],
   "source": [
    "testApriori()"
   ]
  },
  {
   "cell_type": "code",
   "execution_count": 23,
   "metadata": {},
   "outputs": [],
   "source": [
    "'''計算可信度（confidence）\n",
    "Args:\n",
    "    freqSet 頻繁項集中的元素，例如: frozenset([1, 3])\n",
    "    H 頻繁項集中的元素的集合，例如: [frozenset([1]), frozenset([3])]\n",
    "    supportData 所有元素的支援度的字典\n",
    "    brl 關聯規則列表的空陣列\n",
    "    minConf 最小可信度\n",
    "Returns:\n",
    "    prunedH 記錄 可信度大於閾值的集合\n",
    "'''\n",
    "def calcConf(freqSet, H, supportData, brl, minConf=0.7):\n",
    "    # 記錄可信度大於最小可信度（minConf）的集合\n",
    "    prunedH = []\n",
    "    for conseq in H: # 假設 freqSet = frozenset([1, 3]), H = [frozenset([1]), frozenset([3])]，那麼現在需要求出 frozenset([1]) -> frozenset([3]) 的可信度和 frozenset([3]) -> frozenset([1]) 的可信度\n",
    "        conf = supportData[freqSet]/supportData[freqSet-conseq] # 支援度定義: a -> b = support(a | b) / support(a). 假設  freqSet = frozenset([1, 3]), conseq = [frozenset([1])]，那麼 frozenset([1]) 至 frozenset([3]) 的可信度為 = support(a | b) / support(a) = supportData[freqSet]/supportData[freqSet-conseq] = supportData[frozenset([1, 3])] / supportData[frozenset([1])]\n",
    "        if conf >= minConf:\n",
    "            # 只要買了 freqSet-conseq 集合，一定會買 conseq 集合（freqSet-conseq 集合和 conseq集合 是全集）\n",
    "            print (freqSet-conseq, '-->', conseq, 'conf:', conf)\n",
    "            brl.append((freqSet-conseq, conseq, conf))\n",
    "            prunedH.append(conseq)\n",
    "    return prunedH"
   ]
  },
  {
   "cell_type": "code",
   "execution_count": 24,
   "metadata": {},
   "outputs": [],
   "source": [
    "\"\"\"遞迴計算頻繁項集的規則\n",
    "    Args:\n",
    "        freqSet 頻繁項集中的元素，例如: frozenset([2, 3, 5])\n",
    "        H 頻繁項集中的元素的集合，例如: [frozenset([2]), frozenset([3]), frozenset([5])]\n",
    "        supportData 所有元素的支援度的字典\n",
    "        brl 關聯規則列表的陣列\n",
    "        minConf 最小可信度\n",
    "\"\"\"\n",
    "def rulesFromConseq(freqSet, H, supportData, brl, minConf=0.7):\n",
    "    # H[0] 是 freqSet 的元素組合的第一個元素，並且 H 中所有元素的長度都一樣，長度由 aprioriGen(H, m+1) 這裡的 m + 1 來控制\n",
    "    # 該函式遞迴時，H[0] 的長度從 1 開始增長 1 2 3 ...\n",
    "    # 假設 freqSet = frozenset([2, 3, 5]), H = [frozenset([2]), frozenset([3]), frozenset([5])]\n",
    "    # 那麼 m = len(H[0]) 的遞迴的值依次為 1 2\n",
    "    # 在 m = 2 時, 跳出該遞迴。假設再遞迴一次，那麼 H[0] = frozenset([2, 3, 5])，freqSet = frozenset([2, 3, 5]) ，沒必要再計算 freqSet 與 H[0] 的關聯規則了。\n",
    "    m = len(H[0])\n",
    "    if (len(freqSet) > (m + 1)):\n",
    "        # 生成 m+1 個長度的所有可能的 H 中的組合，假設 H = [frozenset([2]), frozenset([3]), frozenset([5])]\n",
    "        # 第一次遞迴呼叫時生成 [frozenset([2, 3]), frozenset([2, 5]), frozenset([3, 5])]\n",
    "        # 第二次 。。。沒有第二次，遞迴條件判斷時已經退出了\n",
    "        Hmp1 = aprioriGen(H, m+1)\n",
    "        # 返回可信度大於最小可信度的集合\n",
    "        Hmp1 = calcConf(freqSet, Hmp1, supportData, brl, minConf)\n",
    "        # print ('Hmp1=', Hmp1)\n",
    "        # print ('len(Hmp1)=', len(Hmp1), 'len(freqSet)=', len(freqSet))\n",
    "        # 計算可信度後，還有資料大於最小可信度的話，那麼繼續遞迴呼叫，否則跳出遞迴\n",
    "        if (len(Hmp1) > 1):\n",
    "            # print '----------------------', Hmp1\n",
    "            # print len(freqSet),  len(Hmp1[0]) + 1\n",
    "            rulesFromConseq(freqSet, Hmp1, supportData, brl, minConf)\n"
   ]
  },
  {
   "cell_type": "code",
   "execution_count": 25,
   "metadata": {},
   "outputs": [],
   "source": [
    "'''生成關聯規則\n",
    "    Args:\n",
    "        L 頻繁項集列表\n",
    "        supportData 頻繁項集支援度的字典\n",
    "        minConf 最小置信度\n",
    "    Returns:\n",
    "        bigRuleList 可信度規則列表（關於 (A->B+置信度) 3個欄位的組合）\n",
    "'''\n",
    "def generateRules(L, supportData, minConf=0.7):\n",
    "    bigRuleList = []\n",
    "    for i in range(1, len(L)):\n",
    "        # 獲取頻繁項集中每個組合的所有元素\n",
    "        for freqSet in L[i]:\n",
    "            # 組合總的元素並遍歷子元素，轉化為 frozenset集合存放到 list 列表中\n",
    "            H1 = [frozenset([item]) for item in freqSet]\n",
    "            # print(H1)\n",
    "            # 2 個的組合else, 2 個以上的組合 if\n",
    "            if (i > 1):\n",
    "                rulesFromConseq(freqSet, H1, supportData, bigRuleList, minConf)\n",
    "            else:\n",
    "                calcConf(freqSet, H1, supportData, bigRuleList, minConf)\n",
    "    return bigRuleList"
   ]
  },
  {
   "cell_type": "code",
   "execution_count": 26,
   "metadata": {},
   "outputs": [],
   "source": [
    "def testGenerateRules():\n",
    "    # 載入測試資料集\n",
    "    dataSet = loadDataSet()\n",
    "    print ('dataSet: ', dataSet)\n",
    "\n",
    "    # Apriori 演算法生成頻繁項集以及它們的支援度\n",
    "    L1, supportData1 = apriori(dataSet, minSupport=0.5)\n",
    "    print ('L(0.7): ', L1)\n",
    "    print ('supportData(0.7): ', supportData1)\n",
    "\n",
    "    # 生成關聯規則\n",
    "    rules = generateRules(L1, supportData1, minConf=0.5)\n",
    "    print ('rules: ', rules)\n",
    "    for r in rules:\n",
    "        print(r)\n",
    "    return rules"
   ]
  },
  {
   "cell_type": "code",
   "execution_count": 27,
   "metadata": {},
   "outputs": [
    {
     "output_type": "stream",
     "name": "stdout",
     "text": [
      "dataSet:  [['A', 'C', 'D'], ['B', 'C', 'E'], ['A', 'B', 'C', 'E'], ['B', 'E']]\n[['A'], ['B'], ['C'], ['D'], ['E']]\nL(0.7):  [[frozenset({'E'}), frozenset({'B'}), frozenset({'C'}), frozenset({'A'})], [frozenset({'C', 'B'}), frozenset({'E', 'C'}), frozenset({'E', 'B'}), frozenset({'C', 'A'})], [frozenset({'E', 'C', 'B'})]]\nsupportData(0.7):  {frozenset({'A'}): 0.5, frozenset({'C'}): 0.75, frozenset({'D'}): 0.25, frozenset({'B'}): 0.75, frozenset({'E'}): 0.75, frozenset({'C', 'A'}): 0.5, frozenset({'E', 'B'}): 0.75, frozenset({'E', 'C'}): 0.5, frozenset({'C', 'B'}): 0.5, frozenset({'E', 'A'}): 0.25, frozenset({'A', 'B'}): 0.25, frozenset({'E', 'C', 'B'}): 0.5, frozenset({'C', 'A', 'B'}): 0.25}\nfrozenset({'B'}) --> frozenset({'C'}) conf: 0.6666666666666666\nfrozenset({'C'}) --> frozenset({'B'}) conf: 0.6666666666666666\nfrozenset({'C'}) --> frozenset({'E'}) conf: 0.6666666666666666\nfrozenset({'E'}) --> frozenset({'C'}) conf: 0.6666666666666666\nfrozenset({'B'}) --> frozenset({'E'}) conf: 1.0\nfrozenset({'E'}) --> frozenset({'B'}) conf: 1.0\nfrozenset({'A'}) --> frozenset({'C'}) conf: 1.0\nfrozenset({'C'}) --> frozenset({'A'}) conf: 0.6666666666666666\nfrozenset({'B'}) --> frozenset({'E', 'C'}) conf: 0.6666666666666666\nfrozenset({'C'}) --> frozenset({'E', 'B'}) conf: 0.6666666666666666\nfrozenset({'E'}) --> frozenset({'C', 'B'}) conf: 0.6666666666666666\nrules:  [(frozenset({'B'}), frozenset({'C'}), 0.6666666666666666), (frozenset({'C'}), frozenset({'B'}), 0.6666666666666666), (frozenset({'C'}), frozenset({'E'}), 0.6666666666666666), (frozenset({'E'}), frozenset({'C'}), 0.6666666666666666), (frozenset({'B'}), frozenset({'E'}), 1.0), (frozenset({'E'}), frozenset({'B'}), 1.0), (frozenset({'A'}), frozenset({'C'}), 1.0), (frozenset({'C'}), frozenset({'A'}), 0.6666666666666666), (frozenset({'B'}), frozenset({'E', 'C'}), 0.6666666666666666), (frozenset({'C'}), frozenset({'E', 'B'}), 0.6666666666666666), (frozenset({'E'}), frozenset({'C', 'B'}), 0.6666666666666666)]\n(frozenset({'B'}), frozenset({'C'}), 0.6666666666666666)\n(frozenset({'C'}), frozenset({'B'}), 0.6666666666666666)\n(frozenset({'C'}), frozenset({'E'}), 0.6666666666666666)\n(frozenset({'E'}), frozenset({'C'}), 0.6666666666666666)\n(frozenset({'B'}), frozenset({'E'}), 1.0)\n(frozenset({'E'}), frozenset({'B'}), 1.0)\n(frozenset({'A'}), frozenset({'C'}), 1.0)\n(frozenset({'C'}), frozenset({'A'}), 0.6666666666666666)\n(frozenset({'B'}), frozenset({'E', 'C'}), 0.6666666666666666)\n(frozenset({'C'}), frozenset({'E', 'B'}), 0.6666666666666666)\n(frozenset({'E'}), frozenset({'C', 'B'}), 0.6666666666666666)\n"
     ]
    },
    {
     "output_type": "execute_result",
     "data": {
      "text/plain": [
       "11"
      ]
     },
     "metadata": {},
     "execution_count": 27
    }
   ],
   "source": [
    "r = testGenerateRules()\n",
    "len(r)"
   ]
  },
  {
   "cell_type": "code",
   "execution_count": null,
   "metadata": {},
   "outputs": [],
   "source": []
  },
  {
   "cell_type": "code",
   "execution_count": null,
   "metadata": {},
   "outputs": [],
   "source": []
  }
 ]
}