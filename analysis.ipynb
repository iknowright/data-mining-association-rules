{
 "metadata": {
  "language_info": {
   "codemirror_mode": {
    "name": "ipython",
    "version": 3
   },
   "file_extension": ".py",
   "mimetype": "text/x-python",
   "name": "python",
   "nbconvert_exporter": "python",
   "pygments_lexer": "ipython3",
   "version": "3.8.5-final"
  },
  "orig_nbformat": 2,
  "kernelspec": {
   "name": "Python 3.8.5 64-bit ('data_mining_project1': pipenv)",
   "display_name": "Python 3.8.5 64-bit ('data_mining_project1': pipenv)",
   "metadata": {
    "interpreter": {
     "hash": "bb132c823c6ccd600398563302bc24d436a2e3c6bb550f27bffaf0c3ee285f1b"
    }
   }
  }
 },
 "nbformat": 4,
 "nbformat_minor": 2,
 "cells": [
  {
   "cell_type": "code",
   "execution_count": 4,
   "metadata": {},
   "outputs": [],
   "source": [
    "# import packges\n",
    "import numpy as np\n",
    "import pandas as pd\n"
   ]
  },
  {
   "cell_type": "code",
   "execution_count": 14,
   "metadata": {},
   "outputs": [
    {
     "output_type": "execute_result",
     "data": {
      "text/plain": [
       "                                   Rule  Confidence\n",
       "0                soup ==> mineral water        0.46\n",
       "1           olive oil ==> mineral water        0.42\n",
       "2         ground beef ==> mineral water        0.42\n",
       "3              salmon ==> mineral water        0.40\n",
       "4             cereals ==> mineral water        0.40\n",
       "5             ground beef ==> spaghetti        0.40\n",
       "6         cooking oil ==> mineral water        0.39\n",
       "7            red wine ==> mineral water        0.39\n",
       "8             chicken ==> mineral water        0.38\n",
       "9   frozen vegetables ==> mineral water        0.37\n",
       "10               milk ==> mineral water        0.37\n",
       "11               red wine ==> spaghetti        0.36\n",
       "12           tomatoes ==> mineral water        0.36\n",
       "13           pancakes ==> mineral water        0.35\n",
       "14              olive oil ==> spaghetti        0.35\n",
       "15            avocado ==> mineral water        0.35\n",
       "16      herb & pepper ==> mineral water        0.35\n",
       "17   whole wheat rice ==> mineral water        0.34\n",
       "18          spaghetti ==> mineral water        0.34\n",
       "19               cake ==> mineral water        0.34\n",
       "20      grated cheese ==> mineral water        0.33\n",
       "21                     burgers ==> eggs        0.33\n",
       "22             shrimp ==> mineral water        0.33\n",
       "23          herb & pepper ==> spaghetti        0.33\n",
       "24        herb & pepper ==> ground beef        0.32\n",
       "25          chocolate ==> mineral water        0.32\n",
       "26    frozen smoothie ==> mineral water        0.32\n",
       "27              honey ==> mineral water        0.32\n",
       "28                 salmon ==> spaghetti        0.32\n",
       "29          grated cheese ==> spaghetti        0.32\n",
       "30     low fat yogurt ==> mineral water        0.31\n",
       "31                      turkey ==> eggs        0.31\n",
       "32            cooking oil ==> spaghetti        0.31\n",
       "33        fresh bread ==> mineral water        0.31\n",
       "34             turkey ==> mineral water        0.31\n",
       "35               tomatoes ==> spaghetti        0.31\n",
       "36                        soup ==> milk        0.30\n",
       "37                 shrimp ==> spaghetti        0.30\n",
       "38      frozen vegetables ==> spaghetti        0.29\n",
       "39                chicken ==> spaghetti        0.29\n",
       "40               eggs ==> mineral water        0.28\n",
       "41                   soup ==> spaghetti        0.28\n",
       "42            burgers ==> mineral water        0.28\n",
       "43                   milk ==> spaghetti        0.27\n",
       "44            cooking oil ==> chocolate        0.27\n",
       "45               pancakes ==> spaghetti        0.27\n",
       "46                 turkey ==> spaghetti        0.26\n",
       "47                   olive oil ==> milk        0.26\n",
       "48               herb & pepper ==> eggs        0.25\n",
       "49             burgers ==> french fries        0.25"
      ],
      "text/html": "<div>\n<style scoped>\n    .dataframe tbody tr th:only-of-type {\n        vertical-align: middle;\n    }\n\n    .dataframe tbody tr th {\n        vertical-align: top;\n    }\n\n    .dataframe thead th {\n        text-align: right;\n    }\n</style>\n<table border=\"1\" class=\"dataframe\">\n  <thead>\n    <tr style=\"text-align: right;\">\n      <th></th>\n      <th>Rule</th>\n      <th>Confidence</th>\n    </tr>\n  </thead>\n  <tbody>\n    <tr>\n      <th>0</th>\n      <td>soup ==&gt; mineral water</td>\n      <td>0.46</td>\n    </tr>\n    <tr>\n      <th>1</th>\n      <td>olive oil ==&gt; mineral water</td>\n      <td>0.42</td>\n    </tr>\n    <tr>\n      <th>2</th>\n      <td>ground beef ==&gt; mineral water</td>\n      <td>0.42</td>\n    </tr>\n    <tr>\n      <th>3</th>\n      <td>salmon ==&gt; mineral water</td>\n      <td>0.40</td>\n    </tr>\n    <tr>\n      <th>4</th>\n      <td>cereals ==&gt; mineral water</td>\n      <td>0.40</td>\n    </tr>\n    <tr>\n      <th>5</th>\n      <td>ground beef ==&gt; spaghetti</td>\n      <td>0.40</td>\n    </tr>\n    <tr>\n      <th>6</th>\n      <td>cooking oil ==&gt; mineral water</td>\n      <td>0.39</td>\n    </tr>\n    <tr>\n      <th>7</th>\n      <td>red wine ==&gt; mineral water</td>\n      <td>0.39</td>\n    </tr>\n    <tr>\n      <th>8</th>\n      <td>chicken ==&gt; mineral water</td>\n      <td>0.38</td>\n    </tr>\n    <tr>\n      <th>9</th>\n      <td>frozen vegetables ==&gt; mineral water</td>\n      <td>0.37</td>\n    </tr>\n    <tr>\n      <th>10</th>\n      <td>milk ==&gt; mineral water</td>\n      <td>0.37</td>\n    </tr>\n    <tr>\n      <th>11</th>\n      <td>red wine ==&gt; spaghetti</td>\n      <td>0.36</td>\n    </tr>\n    <tr>\n      <th>12</th>\n      <td>tomatoes ==&gt; mineral water</td>\n      <td>0.36</td>\n    </tr>\n    <tr>\n      <th>13</th>\n      <td>pancakes ==&gt; mineral water</td>\n      <td>0.35</td>\n    </tr>\n    <tr>\n      <th>14</th>\n      <td>olive oil ==&gt; spaghetti</td>\n      <td>0.35</td>\n    </tr>\n    <tr>\n      <th>15</th>\n      <td>avocado ==&gt; mineral water</td>\n      <td>0.35</td>\n    </tr>\n    <tr>\n      <th>16</th>\n      <td>herb &amp; pepper ==&gt; mineral water</td>\n      <td>0.35</td>\n    </tr>\n    <tr>\n      <th>17</th>\n      <td>whole wheat rice ==&gt; mineral water</td>\n      <td>0.34</td>\n    </tr>\n    <tr>\n      <th>18</th>\n      <td>spaghetti ==&gt; mineral water</td>\n      <td>0.34</td>\n    </tr>\n    <tr>\n      <th>19</th>\n      <td>cake ==&gt; mineral water</td>\n      <td>0.34</td>\n    </tr>\n    <tr>\n      <th>20</th>\n      <td>grated cheese ==&gt; mineral water</td>\n      <td>0.33</td>\n    </tr>\n    <tr>\n      <th>21</th>\n      <td>burgers ==&gt; eggs</td>\n      <td>0.33</td>\n    </tr>\n    <tr>\n      <th>22</th>\n      <td>shrimp ==&gt; mineral water</td>\n      <td>0.33</td>\n    </tr>\n    <tr>\n      <th>23</th>\n      <td>herb &amp; pepper ==&gt; spaghetti</td>\n      <td>0.33</td>\n    </tr>\n    <tr>\n      <th>24</th>\n      <td>herb &amp; pepper ==&gt; ground beef</td>\n      <td>0.32</td>\n    </tr>\n    <tr>\n      <th>25</th>\n      <td>chocolate ==&gt; mineral water</td>\n      <td>0.32</td>\n    </tr>\n    <tr>\n      <th>26</th>\n      <td>frozen smoothie ==&gt; mineral water</td>\n      <td>0.32</td>\n    </tr>\n    <tr>\n      <th>27</th>\n      <td>honey ==&gt; mineral water</td>\n      <td>0.32</td>\n    </tr>\n    <tr>\n      <th>28</th>\n      <td>salmon ==&gt; spaghetti</td>\n      <td>0.32</td>\n    </tr>\n    <tr>\n      <th>29</th>\n      <td>grated cheese ==&gt; spaghetti</td>\n      <td>0.32</td>\n    </tr>\n    <tr>\n      <th>30</th>\n      <td>low fat yogurt ==&gt; mineral water</td>\n      <td>0.31</td>\n    </tr>\n    <tr>\n      <th>31</th>\n      <td>turkey ==&gt; eggs</td>\n      <td>0.31</td>\n    </tr>\n    <tr>\n      <th>32</th>\n      <td>cooking oil ==&gt; spaghetti</td>\n      <td>0.31</td>\n    </tr>\n    <tr>\n      <th>33</th>\n      <td>fresh bread ==&gt; mineral water</td>\n      <td>0.31</td>\n    </tr>\n    <tr>\n      <th>34</th>\n      <td>turkey ==&gt; mineral water</td>\n      <td>0.31</td>\n    </tr>\n    <tr>\n      <th>35</th>\n      <td>tomatoes ==&gt; spaghetti</td>\n      <td>0.31</td>\n    </tr>\n    <tr>\n      <th>36</th>\n      <td>soup ==&gt; milk</td>\n      <td>0.30</td>\n    </tr>\n    <tr>\n      <th>37</th>\n      <td>shrimp ==&gt; spaghetti</td>\n      <td>0.30</td>\n    </tr>\n    <tr>\n      <th>38</th>\n      <td>frozen vegetables ==&gt; spaghetti</td>\n      <td>0.29</td>\n    </tr>\n    <tr>\n      <th>39</th>\n      <td>chicken ==&gt; spaghetti</td>\n      <td>0.29</td>\n    </tr>\n    <tr>\n      <th>40</th>\n      <td>eggs ==&gt; mineral water</td>\n      <td>0.28</td>\n    </tr>\n    <tr>\n      <th>41</th>\n      <td>soup ==&gt; spaghetti</td>\n      <td>0.28</td>\n    </tr>\n    <tr>\n      <th>42</th>\n      <td>burgers ==&gt; mineral water</td>\n      <td>0.28</td>\n    </tr>\n    <tr>\n      <th>43</th>\n      <td>milk ==&gt; spaghetti</td>\n      <td>0.27</td>\n    </tr>\n    <tr>\n      <th>44</th>\n      <td>cooking oil ==&gt; chocolate</td>\n      <td>0.27</td>\n    </tr>\n    <tr>\n      <th>45</th>\n      <td>pancakes ==&gt; spaghetti</td>\n      <td>0.27</td>\n    </tr>\n    <tr>\n      <th>46</th>\n      <td>turkey ==&gt; spaghetti</td>\n      <td>0.26</td>\n    </tr>\n    <tr>\n      <th>47</th>\n      <td>olive oil ==&gt; milk</td>\n      <td>0.26</td>\n    </tr>\n    <tr>\n      <th>48</th>\n      <td>herb &amp; pepper ==&gt; eggs</td>\n      <td>0.25</td>\n    </tr>\n    <tr>\n      <th>49</th>\n      <td>burgers ==&gt; french fries</td>\n      <td>0.25</td>\n    </tr>\n  </tbody>\n</table>\n</div>"
     },
     "metadata": {},
     "execution_count": 14
    }
   ],
   "source": [
    "# ! python associator.py -a A -t kaggle -s 0.01 -c 0.01\n",
    "\n",
    "data = pd.read_csv(\"results/kaggle_Apriori.csv\", sep=\",\", header=None, names=[\"Rule\", \"Confidence\"])\n",
    "data[:50]"
   ]
  },
  {
   "cell_type": "code",
   "execution_count": 17,
   "metadata": {},
   "outputs": [
    {
     "output_type": "stream",
     "name": "stdout",
     "text": [
      "generate_rules:time 0.15134119987487793 elapsed second(s)\n"
     ]
    },
    {
     "output_type": "execute_result",
     "data": {
      "text/plain": [
       "Empty DataFrame\n",
       "Columns: [Rule, Confidence]\n",
       "Index: []"
      ],
      "text/html": "<div>\n<style scoped>\n    .dataframe tbody tr th:only-of-type {\n        vertical-align: middle;\n    }\n\n    .dataframe tbody tr th {\n        vertical-align: top;\n    }\n\n    .dataframe thead th {\n        text-align: right;\n    }\n</style>\n<table border=\"1\" class=\"dataframe\">\n  <thead>\n    <tr style=\"text-align: right;\">\n      <th></th>\n      <th>Rule</th>\n      <th>Confidence</th>\n    </tr>\n  </thead>\n  <tbody>\n  </tbody>\n</table>\n</div>"
     },
     "metadata": {},
     "execution_count": 17
    }
   ],
   "source": [
    "! python associator.py -a F -t kaggle -s 0.01 -c 0.01\n",
    "\n",
    "data = pd.read_csv(\"results/kaggle_FPGrowth.csv\", sep=\",\", header=None, names=[\"Rule\", \"Confidence\"])\n",
    "data[:10]"
   ]
  },
  {
   "cell_type": "code",
   "execution_count": null,
   "metadata": {},
   "outputs": [],
   "source": [
    "# ! python associator.py -a A -t ibm -s 0.01 -c 0.01\n",
    "\n",
    "data = pd.read_csv(\"results/ibm_Apriori.csv\", sep=\",\", header=None, names=[\"Rule\", \"Confidence\"])\n",
    "data[:50]"
   ]
  }
 ]
}